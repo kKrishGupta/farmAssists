{
 "cells": [
  {
   "cell_type": "code",
   "execution_count": null,
   "id": "e4674151-91a8-437e-a473-2d7fc4266c9f",
   "metadata": {},
   "outputs": [],
   "source": [
    "import pandas as pd\n",
    "\n",
    "# Load your Q&A CSV\n",
    "df = pd.read_csv(\"data/csv\")\n",
    "\n",
    "# Define a simple rule-based mapping (can be refined later or replaced with LLM)\n",
    "def categorize_question(q):\n",
    "    q = q.lower()\n",
    "    if \"fertilizer\" in q or \"urea\" in q or \"npk\" in q:\n",
    "        return \"fertilizer\"\n",
    "    elif \"pest\" in q or \"insect\" in q or \"fly\" in q:\n",
    "        return \"pests\"\n",
    "    elif \"soil\" in q:\n",
    "        return \"soil\"\n",
    "    elif \"irrigation\" in q or \"water\" in q:\n",
    "        return \"irrigation\"\n",
    "    elif \"time\" in q or \"sow\" in q or \"plant\" in q:\n",
    "        return \"crop_timing\"\n",
    "    elif \"cow\" in q or \"milk\" in q or \"animal\" in q:\n",
    "        return \"animal_husbandry\"\n",
    "    elif \"scheme\" in q or \"pm-kisan\" in q or \"loan\" in q:\n",
    "        return \"gov_scheme\"\n",
    "    elif \"store\" in q or \"harvest\" in q or \"grain\" in q:\n",
    "        return \"storage\"\n",
    "    else:\n",
    "        return \"general\"\n",
    "\n",
    "# Apply categorization\n",
    "df[\"intent\"] = df[\"questions\"].apply(categorize_question)\n",
    "\n",
    "# Save new CSV\n",
    "df.to_csv(\"data/faq_with_intents.csv\", index=False)\n",
    "\n",
    "print(df.head(10))\n"
   ]
  }
 ],
 "metadata": {
  "kernelspec": {
   "display_name": "Python 3 (ipykernel)",
   "language": "python",
   "name": "python3"
  },
  "language_info": {
   "codemirror_mode": {
    "name": "ipython",
    "version": 3
   },
   "file_extension": ".py",
   "mimetype": "text/x-python",
   "name": "python",
   "nbconvert_exporter": "python",
   "pygments_lexer": "ipython3",
   "version": "3.12.7"
  }
 },
 "nbformat": 4,
 "nbformat_minor": 5
}
