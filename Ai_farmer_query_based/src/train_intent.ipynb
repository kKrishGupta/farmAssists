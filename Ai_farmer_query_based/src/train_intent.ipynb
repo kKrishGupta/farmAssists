{
 "cells": [
  {
   "cell_type": "code",
   "execution_count": 3,
   "id": "8e024e81-e5bf-4398-af2c-b31d7e360d06",
   "metadata": {},
   "outputs": [
    {
     "ename": "NameError",
     "evalue": "name 'joblib' is not defined",
     "output_type": "error",
     "traceback": [
      "\u001b[1;31m---------------------------------------------------------------------------\u001b[0m",
      "\u001b[1;31mNameError\u001b[0m                                 Traceback (most recent call last)",
      "Cell \u001b[1;32mIn[3], line 7\u001b[0m\n\u001b[0;32m      4\u001b[0m os\u001b[38;5;241m.\u001b[39mmakedirs(\u001b[38;5;124m\"\u001b[39m\u001b[38;5;124mmodels\u001b[39m\u001b[38;5;124m\"\u001b[39m, exist_ok\u001b[38;5;241m=\u001b[39m\u001b[38;5;28;01mTrue\u001b[39;00m)\n\u001b[0;32m      6\u001b[0m \u001b[38;5;66;03m# Now save\u001b[39;00m\n\u001b[1;32m----> 7\u001b[0m joblib\u001b[38;5;241m.\u001b[39mdump((vectorizer, df), \u001b[38;5;124m\"\u001b[39m\u001b[38;5;124mmodels/faq_tfidf.joblib\u001b[39m\u001b[38;5;124m\"\u001b[39m)\n",
      "\u001b[1;31mNameError\u001b[0m: name 'joblib' is not defined"
     ]
    }
   ],
   "source": [
    "import os\n",
    "\n",
    "# Make sure models directory exists\n",
    "os.makedirs(\"models\", exist_ok=True)\n",
    "\n",
    "# Now save\n",
    "joblib.dump((vectorizer, df), \"models/faq_tfidf.joblib\")"
   ]
  },
  {
   "cell_type": "code",
   "execution_count": 13,
   "id": "caac82ee-3223-49a5-b7bc-6b17e1c164b6",
   "metadata": {},
   "outputs": [
    {
     "name": "stdout",
     "output_type": "stream",
     "text": [
      "[('fertilizer dose for wheat', 'urea- 18kg, ssp- 33kg, mop- 8kg per bigha', 0.5461223972857809)]\n"
     ]
    }
   ],
   "source": [
    "# import pandas as pd\n",
    "# from sklearn.model_selection import train_test_split\n",
    "# from sklearn.pipeline import make_pipeline\n",
    "# from sklearn.feature_extraction.text import TfidfVectorizer\n",
    "# from sklearn.linear_model import LogisticRegression\n",
    "# from sklearn.metrics import classification_report\n",
    "# import joblib\n",
    "\n",
    "# df = pd.read_csv(\"data/faq.csv\")\n",
    "# X = df['question']\n",
    "# y = df['intent']\n",
    "\n",
    "# X_train, X_test, y_train, y_test = train_test_split(X, y, test_size=0.2, random_state=42, stratify=y)\n",
    "\n",
    "# pipe = make_pipeline(\n",
    "#     TfidfVectorizer(ngram_range=(1,2), max_features=10000),\n",
    "#     LogisticRegression(max_iter=2000)\n",
    "# )\n",
    "# pipe.fit(X_train, y_train)\n",
    "# y_pred = pipe.predict(X_test)\n",
    "# print(classification_report(y_test, y_pred))\n",
    "# joblib.dump(pipe, \"models/intent_baseline.joblib\")\n",
    "\n",
    "import pandas as pd\n",
    "from sklearn.feature_extraction.text import TfidfVectorizer\n",
    "from sklearn.metrics.pairwise import cosine_similarity\n",
    "import joblib\n",
    "\n",
    "# Load CSV\n",
    "df = pd.read_csv(r\"C:\\Users\\Lenovo\\Ai_farmer_query_based\\data\\faq2.csv\")  # has 'questions' and 'answers'\n",
    "\n",
    "# Fit TF-IDF on questions\n",
    "vectorizer = TfidfVectorizer(ngram_range=(1,2), max_features=10000)\n",
    "X = vectorizer.fit_transform(df['questions'])\n",
    "\n",
    "# Save model + data\n",
    "joblib.dump((vectorizer, df), \"models/faq_tfidf.joblib\")\n",
    "\n",
    "# Function to retrieve answer\n",
    "def get_answer(query, top_k=1):\n",
    "    query_vec = vectorizer.transform([query])\n",
    "    sims = cosine_similarity(query_vec, X).flatten()\n",
    "    top_idx = sims.argsort()[-top_k:][::-1]\n",
    "    return [(df['questions'][i], df['answers'][i], sims[i]) for i in top_idx]\n",
    "\n",
    "# Example\n",
    "print(get_answer(\"What fertilizer should I use for wheat?\"))\n",
    "\n"
   ]
  },
  {
   "cell_type": "code",
   "execution_count": 15,
   "id": "ae4154fe-d75c-4dad-92e5-c16eb48b90c6",
   "metadata": {},
   "outputs": [
    {
     "name": "stdout",
     "output_type": "stream",
     "text": [
      "[('how to improve soil fertility of paddy field', 'use azola biofertilizer with paddy crops & also use psb culture 5g/kg of seed of rice', 0.8349844217300415)]\n"
     ]
    }
   ],
   "source": [
    "# sketch: use Hugging Face Trainer API (install transformers, datasets)\n",
    "# from datasets import Dataset\n",
    "# from transformers import AutoTokenizer, AutoModelForSequenceClassification, TrainingArguments, Trainer\n",
    "# import pandas as pd\n",
    "\n",
    "# df = pd.read_csv(\"data/faq.csv\")\n",
    "# label2id = {l:i for i,l in enumerate(sorted(df['intent'].unique()))}\n",
    "# df['label'] = df['intent'].map(label2id)\n",
    "# ds = Dataset.from_pandas(df[['question','label']])\n",
    "\n",
    "# model_name = \"distilbert-base-multilingual-cased\"\n",
    "# tokenizer = AutoTokenizer.from_pretrained(model_name)\n",
    "\n",
    "# def preprocess(ex):\n",
    "#     return tokenizer(ex['question'], padding='max_length', truncation=True, max_length=128)\n",
    "\n",
    "# ds = ds.map(preprocess, batched=True)\n",
    "# ds = ds.train_test_split(test_size=0.1)\n",
    "# model = AutoModelForSequenceClassification.from_pretrained(model_name, num_labels=len(label2id))\n",
    "\n",
    "# args = TrainingArguments(output_dir=\"models/intent_tf\", per_device_train_batch_size=16, num_train_epochs=3, evaluation_strategy=\"epoch\")\n",
    "# trainer = Trainer(model=model, args=args, train_dataset=ds['train'], eval_dataset=ds['test'])\n",
    "# trainer.train()\n",
    "# trainer.save_model(\"models/intent_tf\")\n",
    "\n",
    "from sentence_transformers import SentenceTransformer, util\n",
    "\n",
    "# Load multilingual model\n",
    "model = SentenceTransformer(\"distiluse-base-multilingual-cased-v1\")\n",
    "\n",
    "# Encode questions\n",
    "embeddings = model.encode(df['questions'].tolist(), convert_to_tensor=True)\n",
    "\n",
    "def get_answer_embed(query, top_k=1):\n",
    "    query_emb = model.encode(query, convert_to_tensor=True)\n",
    "    sims = util.pytorch_cos_sim(query_emb, embeddings)[0]\n",
    "    top_idx = sims.argsort(descending=True)[:top_k]\n",
    "\n",
    "    seen = set()\n",
    "    results = []\n",
    "    for idx in top_idx:\n",
    "        i = idx.item()\n",
    "        if i not in seen:\n",
    "            results.append((df['questions'][i], df['answers'][i], float(sims[i])))\n",
    "            seen.add(i)\n",
    "    return results\n",
    "# Example\n",
    "print(get_answer_embed(\"How to improve soil fertility naturally?\"))\n"
   ]
  },
  {
   "cell_type": "code",
   "execution_count": 1,
   "id": "ec2ff3a6-a558-4eed-ae28-51890b4937ec",
   "metadata": {},
   "outputs": [
    {
     "ename": "NameError",
     "evalue": "name 'get_answer_embed' is not defined",
     "output_type": "error",
     "traceback": [
      "\u001b[1;31m---------------------------------------------------------------------------\u001b[0m",
      "\u001b[1;31mNameError\u001b[0m                                 Traceback (most recent call last)",
      "Cell \u001b[1;32mIn[1], line 1\u001b[0m\n\u001b[1;32m----> 1\u001b[0m \u001b[38;5;28mprint\u001b[39m(get_answer_embed(\u001b[38;5;124m\"\u001b[39m\u001b[38;5;124mHow to prevent farmer loss from heavy rainfall?\u001b[39m\u001b[38;5;124m\"\u001b[39m))\n",
      "\u001b[1;31mNameError\u001b[0m: name 'get_answer_embed' is not defined"
     ]
    }
   ],
   "source": [
    "print(get_answer_embed(\"How to prevent farmer loss from heavy rainfall?\"))"
   ]
  },
  {
   "cell_type": "code",
   "execution_count": null,
   "id": "a3088eaf-81f7-4a1e-9e4b-ca0d69060c4a",
   "metadata": {},
   "outputs": [],
   "source": []
  }
 ],
 "metadata": {
  "kernelspec": {
   "display_name": "Python 3 (ipykernel)",
   "language": "python",
   "name": "python3"
  },
  "language_info": {
   "codemirror_mode": {
    "name": "ipython",
    "version": 3
   },
   "file_extension": ".py",
   "mimetype": "text/x-python",
   "name": "python",
   "nbconvert_exporter": "python",
   "pygments_lexer": "ipython3",
   "version": "3.12.7"
  }
 },
 "nbformat": 4,
 "nbformat_minor": 5
}
