{
 "cells": [
  {
   "cell_type": "code",
   "execution_count": null,
   "id": "48d8c005-d4a3-484c-b599-4b4e186ee420",
   "metadata": {},
   "outputs": [],
   "source": [
    "from fastapi import FastAPI\n",
    "from pydantic import BaseModel\n",
    "import joblib, json\n",
    "from sentence_transformers import SentenceTransformer\n",
    "import faiss\n",
    "\n",
    "app = FastAPI()\n",
    "\n",
    "# load models / index\n",
    "intent_pipe = joblib.load(\"models/intent_baseline.joblib\")  # or TF model\n",
    "sbert = SentenceTransformer(\"paraphrase-multilingual-MiniLM-L12-v2\")\n",
    "index = faiss.read_index(\"data/faiss_index.idx\")\n",
    "with open(\"data/faiss_meta.json\",'r',encoding='utf8') as f:\n",
    "    meta = json.load(f)\n",
    "# docs list must be loaded similarly\n",
    "\n",
    "class Query(BaseModel):\n",
    "    text: str\n",
    "\n",
    "@app.post(\"/query\")\n",
    "def query(q: Query):\n",
    "    text = q.text\n",
    "    # 1) intent\n",
    "    intent = intent_pipe.predict([text])[0]\n",
    "    # 2) if high-confidence FAQ -> return template\n",
    "    # otherwise retrieval\n",
    "    q_emb = sbert.encode([text], convert_to_numpy=True)\n",
    "    faiss.normalize_L2(q_emb)\n",
    "    D,I = index.search(q_emb, 5)\n",
    "    top_passages = [docs[i] for i in I[0]]\n",
    "    # 3) generate answer (use local generator or API)\n",
    "    answer = generate_answer(text, top_passages)  # from rag_generate.py\n",
    "    return {\"intent\": intent, \"answer\": answer, \"sources\": [meta[i]['source'] for i in I[0]]}\n"
   ]
  }
 ],
 "metadata": {
  "kernelspec": {
   "display_name": "Python 3 (ipykernel)",
   "language": "python",
   "name": "python3"
  },
  "language_info": {
   "codemirror_mode": {
    "name": "ipython",
    "version": 3
   },
   "file_extension": ".py",
   "mimetype": "text/x-python",
   "name": "python",
   "nbconvert_exporter": "python",
   "pygments_lexer": "ipython3",
   "version": "3.12.7"
  }
 },
 "nbformat": 4,
 "nbformat_minor": 5
}
